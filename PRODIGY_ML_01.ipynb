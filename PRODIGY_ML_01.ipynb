{
  "nbformat": 4,
  "nbformat_minor": 0,
  "metadata": {
    "colab": {
      "provenance": []
    },
    "kernelspec": {
      "name": "python3",
      "display_name": "Python 3"
    },
    "language_info": {
      "name": "python"
    }
  },
  "cells": [
    {
      "cell_type": "code",
      "source": [
        "import numpy as np\n",
        "import pandas as pd\n",
        "from sklearn.datasets import fetch_california_housing\n",
        "from sklearn.model_selection import train_test_split\n",
        "from sklearn.linear_model import LinearRegression\n",
        "from sklearn.metrics import mean_squared_error\n",
        "from sklearn.preprocessing import StandardScaler\n",
        "\n",
        "# Load the California housing dataset\n",
        "california_housing = fetch_california_housing()\n",
        "data = pd.DataFrame(california_housing.data, columns=california_housing.feature_names)\n",
        "data['target'] = california_housing.target\n",
        "\n",
        "# Select relevant features (AveRooms, AveBedrms, AveOccup)\n",
        "selected_features = ['AveRooms', 'AveBedrms', 'AveOccup']\n",
        "data = data[selected_features + ['target']]\n",
        "\n",
        "# Split the data into features (X) and target variable (y)\n",
        "X = data.drop('target', axis=1)\n",
        "y = data['target']\n",
        "\n",
        "# Standardize the features\n",
        "scaler = StandardScaler()\n",
        "X_scaled = scaler.fit_transform(X)\n",
        "\n",
        "# Split the data into training and testing sets\n",
        "X_train, X_test, y_train, y_test = train_test_split(X_scaled, y, test_size=0.2, random_state=42)\n",
        "\n",
        "# Train the linear regression model\n",
        "model = LinearRegression()\n",
        "model.fit(X_train, y_train)\n",
        "\n",
        "# Make predictions on the test set\n",
        "y_pred = model.predict(X_test)\n",
        "\n",
        "# Evaluate the model\n",
        "mse = mean_squared_error(y_test, y_pred)\n",
        "print(f'Mean Squared Error: {mse}')\n",
        "\n",
        "# Print the coefficients of the linear regression model\n",
        "coefficients = pd.DataFrame({'Feature': X.columns, 'Coefficient': model.coef_})\n",
        "print(coefficients)\n",
        "\n",
        "# Predict prices for a hypothetical new house\n",
        "# ...\n",
        "\n",
        "# Predict prices for a hypothetical new house\n",
        "new_house = np.array([[5, 2, 3]])  # AveRooms: 5, AveBedrms: 2, AveOccup: 3\n",
        "new_house_scaled = scaler.transform(new_house)\n",
        "predicted_price = model.predict(new_house_scaled) * 100000  # Scaling by $100,000\n",
        "print(f'Predicted Price for the New House: ${predicted_price[0]:,.2f}')\n",
        "\n"
      ],
      "metadata": {
        "colab": {
          "base_uri": "https://localhost:8080/"
        },
        "id": "PdC9qKkfufwm",
        "outputId": "50ee0733-a9bc-4e23-b0af-48e5f2319b60"
      },
      "execution_count": 9,
      "outputs": [
        {
          "output_type": "stream",
          "name": "stdout",
          "text": [
            "Mean Squared Error: 1.1708074811097746\n",
            "     Feature  Coefficient\n",
            "0   AveRooms     0.802292\n",
            "1  AveBedrms    -0.773242\n",
            "2   AveOccup    -0.023256\n",
            "Predicted Price for the New House: $45,712.69\n"
          ]
        },
        {
          "output_type": "stream",
          "name": "stderr",
          "text": [
            "/usr/local/lib/python3.10/dist-packages/sklearn/base.py:439: UserWarning: X does not have valid feature names, but StandardScaler was fitted with feature names\n",
            "  warnings.warn(\n"
          ]
        }
      ]
    },
    {
      "cell_type": "markdown",
      "source": [
        "# New Section"
      ],
      "metadata": {
        "id": "XN2xcuxVsiG3"
      }
    }
  ]
}